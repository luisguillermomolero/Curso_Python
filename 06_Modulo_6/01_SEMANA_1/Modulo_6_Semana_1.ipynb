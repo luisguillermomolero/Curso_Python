{
 "cells": [
  {
   "cell_type": "markdown",
   "id": "e5c3b82d",
   "metadata": {},
   "source": [
    "## Módulo 6: **Desarrollo de APIs Profesionales con FastAPI + Python + IA**\n",
    "\n",
    "### **Introducción a APIs RESTful con FastAPI + Arquitectura básica en Python**\n",
    "\n",
    "### Objetivos de Aprendizaje\n",
    "1. Comprender qué es una API y los principios REST.\n",
    "2. Crear y probar una API real usando FastAPI.\n",
    "3. Entender la estructura de una app FastAPI.\n",
    "4. Aplicar pruebas y documentación automática.\n",
    "5. Usar herramientas de IA para mejorar el desarrollo de APIs.\n",
    "\n",
    "---\n"
   ]
  },
  {
   "cell_type": "markdown",
   "id": "13d99626",
   "metadata": {},
   "source": [
    "## Cronograma de la Clase (2 horas)\n",
    "\n",
    "| Tiempo | Tema | Metodología |\n",
    "|--------|------|-------------|\n",
    "| 0:00 – 0:15 | **¿Qué es una API? ¿Qué significa REST?** | Teoría con ejemplos visuales y analogías |\n",
    "| 0:15 – 0:25 | **¿Qué es FastAPI? Comparación con Flask/Django** | Diapositivas comparativas y discusión |\n",
    "| 0:25 – 0:40 | **Instalación y configuración del entorno** | Código en vivo: entorno virtual, instalación FastAPI + Uvicorn |\n",
    "| 0:40 – 1:00 | **Estructura básica de una app FastAPI** | Demostración paso a paso |\n",
    "| 1:00 – 1:30 | **Definición de rutas GET, POST, PUT, DELETE** | Ejercicios prácticos y pruebas en vivo |\n",
    "| 1:30 – 1:40 | **Pruebas desde navegador y Postman** | Interacción en vivo con Swagger UI y Postman |\n",
    "| 1:40 – 1:55 | **Documentación automática y asistencia con IA** | Uso de `/docs` + ChatGPT/Copilot para generar rutas y documentación |\n",
    "| 1:55 – 2:00 | **Cierre y preguntas** | Discusión y mini-retroalimentación |\n",
    "\n",
    "---\n"
   ]
  },
  {
   "cell_type": "markdown",
   "id": "87008cb1",
   "metadata": {},
   "source": [
    "## Detalle de la Clase\n",
    "\n",
    "### 1. ¿Qué es una API? ¿Qué significa REST?\n",
    "\n",
    "** ¿Qué es una API?**\n",
    "\n",
    "Una **API** (Interfaz de Programación de Aplicaciones, por sus siglas en inglés) es como un **mesonero en un restaurante**. Imagina que estás sentado en una mesa con el menú frente a ti. Tú no entras a la cocina a pedir la comida directamente, ¿cierto? En su lugar, el mesonero toma tu pedido, lo lleva a la cocina, y luego regresa con tu comida.\n",
    "\n",
    "Del mismo modo, una API actúa como intermediaria entre dos sistemas: **toma tu solicitud**, la **lleva al servidor**, y luego **te devuelve la respuesta**. No necesitas saber cómo funciona la cocina (el sistema interno), solo cómo pedir lo que necesitas.\n",
    "\n",
    "---\n",
    "\n",
    "** ¿Qué significa REST?**\n",
    "\n",
    "REST (Representational State Transfer) es un **conjunto de reglas o principios** que se siguen al construir APIs. Si la API es el mesonero, **REST son las normas de etiqueta del restaurante**: cómo pedir, cómo responder, qué palabras usar.\n",
    "\n",
    "---\n",
    "\n",
    "** Principios REST:**\n",
    "\n",
    "1. **Recursos:**  \n",
    "   Todo en REST se trata como un recurso (por ejemplo, un cliente, una factura, un producto). Cada recurso se representa con una URL única.\n",
    "\n",
    "   Ejemplo:  \n",
    "   `https://api.empresa.com/clientes/123`\n",
    "\n",
    "2. **Verbos HTTP:**  \n",
    "   Se usan verbos para indicar qué acción se quiere hacer sobre el recurso:\n",
    "   - `GET` – Obtener información\n",
    "   - `POST` – Crear un nuevo recurso\n",
    "   - `PUT` – Actualizar un recurso existente\n",
    "   - `DELETE` – Eliminar un recurso\n",
    "\n",
    "3. **URLs semánticas:**  \n",
    "   Las URLs deben ser claras y descriptivas, reflejando el recurso al que se refieren.\n",
    "\n",
    "   Ejemplo:  \n",
    "   - Correcto: `/productos/45`\n",
    "   - Incorrecto: `/accion?id=45&tipo=producto`\n",
    "\n",
    "4. **Stateless (Sin estado):**  \n",
    "   Cada solicitud es independiente. El servidor no guarda el contexto entre una solicitud y otra. Es como si cada vez que hablas con el mesonero, tuvieras que decirle todo de nuevo.\n",
    "\n",
    "---\n",
    "\n",
    "** JSON como formato común de comunicación**\n",
    "\n",
    "REST usualmente utiliza **JSON (JavaScript Object Notation)** para intercambiar información entre cliente y servidor. Es un formato ligero, fácil de leer para humanos y fácil de procesar por máquinas.\n",
    "\n",
    "Ejemplo de respuesta JSON:\n",
    "```json\n",
    "{\n",
    "  \"id\": 123,\n",
    "  \"nombre\": \"Juan Pérez\",\n",
    "  \"email\": \"juan@ejemplo.com\"\n",
    "}\n",
    "```\n",
    "\n",
    "---\n",
    "\n"
   ]
  },
  {
   "cell_type": "markdown",
   "id": "1e1a84f7",
   "metadata": {},
   "source": [
    "###  2. Introducción a FastAPI\n",
    "\n",
    "** Breve historia:**\n",
    "\n",
    "FastAPI fue creada por **Sebastián Ramírez**, un ingeniero de software **colombiano**, en 2018. Su objetivo era diseñar un framework moderno, rápido y fácil de usar para construir APIs con Python, aprovechando lo mejor del tipado moderno y la programación asincrónica.\n",
    "\n",
    " Dato curioso: ¡FastAPI ha sido adoptado por empresas como Netflix, Microsoft y Uber!\n",
    "\n",
    "---\n",
    "\n",
    "** Ventajas de FastAPI:**\n",
    "\n",
    "1. **Muy rápida (Starlette + Pydantic):**  \n",
    "   - FastAPI está construida sobre **Starlette** (para manejar el servidor web asincrónico) y **Pydantic** (para la validación de datos basada en tipado).\n",
    "   - Esto le da un **rendimiento excelente**, comparable al de frameworks en otros lenguajes como Node.js o Go.\n",
    "\n",
    "2. **Tipado fuerte y validación automática:**  \n",
    "   - Usando **Python moderno con type hints**, puedes declarar los tipos de datos esperados en tus funciones, y FastAPI los validará automáticamente.\n",
    "   - Esto reduce errores y mejora la autocompletación en editores como VS Code.\n",
    "\n",
    "3. **Instalación de FastAPI y uvicorn:**\n",
    "\n",
    "      ```pip install fastapi uvicorn```\n",
    "\n",
    "   \n",
    "\n",
    "   Ejemplo:\n",
    "   ```python\n",
    "   from fastapi import FastAPI\n",
    "   from pydantic import BaseModel\n",
    "\n",
    "   app = FastAPI()\n",
    "\n",
    "   class Cliente(BaseModel):\n",
    "       nombre: str\n",
    "       edad: int\n",
    "\n",
    "   @app.post(\"/clientes\")\n",
    "   def crear_cliente(cliente: Cliente):\n",
    "       return {\"mensaje\": f\"Cliente {cliente.nombre} registrado\"}\n",
    "   ```\n",
    "\n",
    "3. **Documentación automática (Swagger y Redoc):**  \n",
    "   - FastAPI genera **documentación interactiva** de tu API sin que tú la escribas manualmente.\n",
    "   - Usa **Swagger UI** y **Redoc**, accesibles en `/docs` y `/redoc`.\n",
    "\n",
    "4. **Integración moderna:**  \n",
    "   - Soporta fácilmente autenticación con OAuth2, JWT, integración con **bases de datos modernas**, **servicios en la nube**, y también es muy usada en proyectos de **Machine Learning e Inteligencia Artificial**.\n",
    "\n",
    "---\n",
    "\n",
    "** Comparativa breve con otros frameworks:**\n",
    "\n",
    "| Framework | Características |\n",
    "|----------|-----------------|\n",
    "| **Flask** | Muy flexible, pero muchas cosas se hacen manualmente. Ideal para pequeños proyectos o quienes quieren controlar todo a mano. |\n",
    "| **Django** | Es un **framework completo** (monolítico): trae ORM (Mapeador relacional de objetos - herramienta que permite trabajar con bases de datos utilizando objetos de programación, en lugar de escribir SQL directamente.), panel de administración, autenticación, etc. Ideal para aplicaciones grandes \"todo en uno\". |\n",
    "| **FastAPI** | Rápido, moderno, basado en asincronía, documentación automática, validación con tipos, ideal para APIs REST y microservicios. |\n",
    "\n",
    "---\n"
   ]
  },
  {
   "cell_type": "markdown",
   "id": "2994f39a",
   "metadata": {},
   "source": [
    "###  3. Instalación y configuración"
   ]
  },
  {
   "cell_type": "code",
   "execution_count": null,
   "id": "6e111d5b",
   "metadata": {},
   "outputs": [],
   "source": [
    "# Crear entorno virtual\n",
    "python -m venv env\n",
    "source env/bin/activate  # Windows: env\\Scripts\\activate\n",
    "\n",
    "# Instalar FastAPI y Uvicorn\n",
    "pip install fastapi uvicorn\n"
   ]
  },
  {
   "cell_type": "markdown",
   "id": "eeb86ce4",
   "metadata": {},
   "source": [
    "###  4. Estructura básica de una app FastAPI\n",
    "```bash\n",
    "project/\n",
    "│\n",
    "├── main.py        # punto de entrada\n",
    "└── requirements.txt\n",
    "```\n"
   ]
  },
  {
   "cell_type": "code",
   "execution_count": null,
   "id": "3eb75545",
   "metadata": {},
   "outputs": [],
   "source": [
    "# main.py\n",
    "# Este es el archivo principal de la aplicación FastAPI.\n",
    "# Aquí se define la API y sus rutas.\n",
    "\n",
    "from fastapi import FastAPI\n",
    "# Se importa la clase FastAPI desde el paquete fastapi.\n",
    "# FastAPI es el \"motor\" que nos permite crear una API web.\n",
    "\n",
    "\n",
    "app = FastAPI()\n",
    "# Se crea una instancia de la aplicación.\n",
    "# Esta variable 'app' será la que utilice el servidor para ejecutar la API.\n",
    "\n",
    "\n",
    "@app.get(\"/\")\n",
    "# Se define una ruta con el decorador @app.get.\n",
    "# Esto indica que esta función responderá a solicitudes GET en la URL raíz ('/').\n",
    "\n",
    "def inicio():\n",
    "    # Se define la función que se ejecutará cuando alguien visite la raíz del sitio.\n",
    "    # Esta función se puede personalizar para devolver lo que se necesite.\n",
    "\n",
    "    return {\"mensaje\": \"Hola, FastAPI\"}\n",
    "    # La función devuelve un diccionario.\n",
    "    # FastAPI automáticamente lo convierte en JSON, que es el formato estándar para APIs.\n",
    "\n"
   ]
  },
  {
   "cell_type": "markdown",
   "id": "4bb85152",
   "metadata": {},
   "source": [
    "###  Comando para ejecutar la API:\n",
    "```bash\n",
    "uvicorn main:app --reload\n",
    "```\n",
    "\n",
    "---\n",
    "\n",
    "###  ¿Qué significa cada parte?\n",
    "\n",
    "| Parte                  | Significado                                                                 |\n",
    "|------------------------|------------------------------------------------------------------------------|\n",
    "| `uvicorn`              | Es el **servidor ASGI** que ejecuta tu aplicación FastAPI.                   |\n",
    "| `main:app`             | Indica que el archivo se llama `main.py` y que dentro de él hay un objeto `app` (la instancia de FastAPI).  |\n",
    "| `--reload`             | Activa el **modo de recarga automática**. Cada vez que cambias el código, se reinicia el servidor automáticamente (ideal para desarrollo). |\n",
    "\n"
   ]
  },
  {
   "cell_type": "markdown",
   "id": "b4bf8e70",
   "metadata": {},
   "source": [
    "## **Probar las API con Postman**\n",
    "\n",
    "### 1. Ejecutar la API con Uvicorn\n",
    "En tu terminal, navega al directorio donde guardaste el archivo `ejercicio-uno.py`. Luego, ejecuta el siguiente comando para iniciar el servidor:\n",
    "```bash\n",
    "uvicorn ejercicio-uno:app --reload\n",
    "```\n",
    "Este comando ejecutará el servidor de FastAPI en el puerto por defecto (`8000`) y habilitará el modo de recarga automática (`--reload`), lo que te permite ver los cambios sin reiniciar el servidor manualmente.\n",
    "\n",
    "### 4. Acceder a la Documentación Interactiva de la API\n",
    "Una vez que el servidor esté corriendo, puedes acceder a la documentación interactiva de la API en tu navegador utilizando la siguiente URL:\n",
    "```\n",
    "http://127.0.0.1:8000/docs\n",
    "```\n",
    "Esto abrirá una interfaz de Swagger donde podrás probar fácilmente todas las operaciones CRUD (Crear, Leer, Actualizar, Eliminar) directamente desde tu navegador.\n",
    "\n",
    "### 5. Probar los Endpoints de la API\n",
    "Ahora puedes probar los endpoints de la API utilizando la interfaz de Swagger o con herramientas como **Postman** o **cURL**.\n",
    "\n",
    "#### a. **Crear un Cliente**\n",
    "- En el endpoint `/clientes`, selecciona el método `POST` y proporciona un cuerpo JSON con los datos del cliente que deseas crear. Por ejemplo:\n",
    "  ```json\n",
    "  {\n",
    "      \"nombre\": \"Juan Pérez\",\n",
    "      \"edad\": 30\n",
    "  }\n",
    "  ```\n",
    "- Haz clic en el botón **Execute** para enviar la solicitud. Si todo es correcto, deberías obtener una respuesta con los datos del cliente, incluyendo el `id` asignado.\n",
    "\n",
    "#### b. **Listar Todos los Clientes**\n",
    "- En el endpoint `/clientes`, selecciona el método `GET`. Esto devolverá la lista de todos los clientes registrados.\n",
    "- Haz clic en **Execute** para enviar la solicitud.\n",
    "\n",
    "#### c. **Obtener un Cliente Específico**\n",
    "- En el endpoint `/clientes/{cliente_id}`, selecciona el método `GET` y reemplaza `{cliente_id}` con el ID de un cliente que hayas creado. Por ejemplo, si el `ID` del cliente es `1`, la URL será `/clientes/1`.\n",
    "- Haz clic en **Execute** para obtener los detalles del cliente.\n",
    "\n",
    "#### d. **Actualizar un Cliente**\n",
    "- En el endpoint `/clientes/{cliente_id}`, selecciona el método `PUT` y proporciona los datos que deseas actualizar en el cuerpo JSON. Por ejemplo:\n",
    "  ```json\n",
    "  {\n",
    "      \"nombre\": \"Juan Pérez Actualizado\",\n",
    "      \"edad\": 31\n",
    "  }\n",
    "  ```\n",
    "- Haz clic en **Execute** para enviar la solicitud y ver la respuesta con los datos actualizados.\n",
    "\n",
    "#### e. **Eliminar un Cliente**\n",
    "- En el endpoint `/clientes/{cliente_id}`, selecciona el método `DELETE`. Esto eliminará al cliente con el `ID` proporcionado.\n",
    "- Haz clic en **Execute** para enviar la solicitud. Si todo es correcto, la respuesta será un código de estado `204` indicando que el cliente fue eliminado correctamente.\n",
    "\n"
   ]
  },
  {
   "cell_type": "markdown",
   "id": "ca13b647",
   "metadata": {},
   "source": [
    "###  5. Rutas básicas REST (GET, POST, PUT, DELETE)"
   ]
  },
  {
   "cell_type": "code",
   "execution_count": null,
   "id": "c66bad17",
   "metadata": {},
   "outputs": [],
   "source": [
    "from fastapi import FastAPI, HTTPException\n",
    "from pydantic import BaseModel\n",
    "from typing import Optional\n",
    "\n",
    "# Crear instancia de FastAPI\n",
    "app = FastAPI()\n",
    "\n",
    "# Modelo Pydantic para la validación de los ítems\n",
    "class Item(BaseModel):\n",
    "    name: str\n",
    "    description: Optional[str] = None\n",
    "    price: float\n",
    "    tax: Optional[float] = None\n",
    "\n",
    "# Ruta raíz\n",
    "@app.get(\"/\")\n",
    "def root():\n",
    "    \"\"\"\n",
    "    Endpoint raíz que devuelve un mensaje de bienvenida.\n",
    "    \"\"\"\n",
    "    return {\"message\": \"Bienvenido a la API de Items\"}\n",
    "\n",
    "# GET - Mostrar todos los ítems\n",
    "@app.get(\"/items/\")\n",
    "def get_all_items():\n",
    "    \"\"\"\n",
    "    Devuelve todos los ítems almacenados.\n",
    "    \"\"\"\n",
    "    if not items:\n",
    "        raise HTTPException(status_code=404, detail=\"No items found\")\n",
    "    \n",
    "    return {\"items\": items}\n",
    "\n",
    "# GET - Obtener un ítem por su ID\n",
    "@app.get(\"/items/{item_id}\")\n",
    "def read_item(item_id: int):\n",
    "    \"\"\"\n",
    "    Obtiene un ítem por su ID.\n",
    "    \"\"\"\n",
    "    if item_id not in items:\n",
    "        raise HTTPException(status_code=404, detail=\"Item not found\")\n",
    "    \n",
    "    return {\"item_id\": item_id, \"item\": items[item_id]}\n",
    "\n",
    "# POST - Crear un nuevo ítem\n",
    "@app.post(\"/items/\")\n",
    "def create_item(item: Item):\n",
    "    \"\"\"\n",
    "    Crea un nuevo ítem.\n",
    "    \"\"\"\n",
    "    item_id = len(items) + 1  # Crear un ID único para el ítem\n",
    "    items[item_id] = item  # Guardar el ítem en la base de datos o lista\n",
    "    return {\"message\": \"Item creado\", \"item_id\": item_id, \"item\": item}\n",
    "\n",
    "# PUT - Actualizar un ítem por su ID\n",
    "@app.put(\"/items/{item_id}\")\n",
    "def update_item(item_id: int, item: Item):\n",
    "    \"\"\"\n",
    "    Actualiza un ítem por su ID.\n",
    "    \"\"\"\n",
    "    if item_id not in items:\n",
    "        raise HTTPException(status_code=404, detail=\"Item not found\")\n",
    "    \n",
    "    items[item_id] = item  # Actualizar el ítem en la base de datos o lista\n",
    "    return {\"message\": \"Item actualizado\", \"item_id\": item_id, \"item\": item}\n",
    "\n",
    "# DELETE - Eliminar un ítem por su ID\n",
    "@app.delete(\"/items/{item_id}\")\n",
    "def delete_item(item_id: int):\n",
    "    \"\"\"\n",
    "    Elimina un ítem por su ID.\n",
    "    \"\"\"\n",
    "    if item_id not in items:\n",
    "        raise HTTPException(status_code=404, detail=\"Item not found\")\n",
    "    \n",
    "    del items[item_id]  # Eliminar el ítem de la base de datos o lista\n",
    "    return {\"message\": f\"Item {item_id} eliminado\"}\n",
    "\n",
    "# Almacenamiento en memoria (simulando una base de datos)\n",
    "items = {}\n"
   ]
  },
  {
   "cell_type": "markdown",
   "id": "3b7cec97",
   "metadata": {},
   "source": [
    "##  **Pasos para Probar las APIs y Documentarlas en el Navegador y Postman**\n",
    "\n",
    "###  **Pre-requisitos**\n",
    "- Tener **FastAPI** y **Uvicorn** instalados.\n",
    "- Tener el código de tu aplicación FastAPI corriendo con Uvicorn.\n",
    "\n",
    "Si aún no tienes estas herramientas, puedes instalar FastAPI y Uvicorn con:\n",
    "\n",
    "```bash\n",
    "pip install fastapi uvicorn\n",
    "```\n",
    "\n",
    "---\n",
    "\n",
    "###  **1. Ejecuta tu API con Uvicorn**\n",
    "\n",
    "Asegúrate de que tu aplicación FastAPI esté corriendo. Desde la terminal, ejecuta:\n",
    "\n",
    "```bash\n",
    "uvicorn main:app --reload\n",
    "```\n",
    "\n",
    "Esto ejecutará tu API localmente en `http://127.0.0.1:8000`.\n",
    "\n",
    "---\n",
    "\n",
    "###  **2. Prueba las Rutas desde el Navegador (Documentación Automática)**\n",
    "\n",
    "Una de las grandes ventajas de FastAPI es que genera **documentación automática** de tu API con **Swagger** y **Redoc**. Para acceder a ellas:\n",
    "\n",
    "- **Swagger UI** (interfaz interactiva para probar la API):  \n",
    "  Abre tu navegador y ve a [http://127.0.0.1:8000/docs](http://127.0.0.1:8000/docs).\n",
    "\n",
    "  Ahí podrás ver todas las rutas definidas en tu API, hacer solicitudes de prueba directamente desde la interfaz, y ver las respuestas.\n",
    "\n",
    "  ¡Puedes interactuar con la API directamente desde Swagger sin necesidad de usar Postman!\n",
    "\n",
    "- **Redoc** (otra forma de documentar la API):  \n",
    "  Abre tu navegador y ve a [http://127.0.0.1:8000/redoc](http://127.0.0.1:8000/redoc).\n",
    "\n",
    "  Redoc ofrece una presentación más estática y profesional de la documentación de la API.\n",
    "\n",
    "---\n",
    "\n",
    "###  **3. Probar las Rutas desde el Navegador (Rutas GET)**\n",
    "\n",
    "Si quieres probar la ruta **GET** para leer un ítem (por ejemplo, `/items/{item_id}`), solo debes:\n",
    "\n",
    "1. Abre el navegador.\n",
    "2. Escribe la URL:  \n",
    "   `http://127.0.0.1:8000/items/1` (esto suponiendo que tu API está esperando un `item_id` como parámetro).\n",
    "3. Deberías obtener una respuesta en formato JSON como:\n",
    "\n",
    "   ```json\n",
    "   {\n",
    "     \"item_id\": 1\n",
    "   }\n",
    "   ```\n",
    "\n",
    "¡Con esto verificas que la ruta GET funciona correctamente!\n",
    "\n",
    "---\n",
    "\n",
    "###  **4. Probar las Rutas en Postman**\n",
    "\n",
    "Ahora, vamos a probar las rutas con **Postman**, que es muy útil para probar los métodos **POST**, **PUT**, y **DELETE**.\n",
    "\n",
    "####  4.1 **Prueba GET en Postman**\n",
    "\n",
    "1. Abre **Postman**.\n",
    "2. Selecciona el método **GET**.\n",
    "3. En la URL, ingresa:  \n",
    "   `http://127.0.0.1:8000/items/1`\n",
    "4. Haz clic en **Send**.\n",
    "5. En la respuesta, verás algo como:\n",
    "\n",
    "   ```json\n",
    "   {\n",
    "     \"item_id\": 1\n",
    "   }\n",
    "   ```\n",
    "\n",
    "####  4.2 **Prueba POST en Postman**\n",
    "\n",
    "1. Abre **Postman**.\n",
    "2. Selecciona el método **POST**.\n",
    "3. En la URL, ingresa:  \n",
    "   `http://127.0.0.1:8000/items/`\n",
    "4. En la pestaña **Body**, selecciona **raw** y elige **JSON** como formato.\n",
    "5. Ingresa el cuerpo de la solicitud. Ejemplo:\n",
    "\n",
    "   ```json\n",
    "   {\n",
    "     \"name\": \"Nuevo item\",\n",
    "     \"price\": 25.5\n",
    "   }\n",
    "   ```\n",
    "\n",
    "6. Haz clic en **Send**.\n",
    "7. Deberías recibir la respuesta:\n",
    "\n",
    "   ```json\n",
    "   {\n",
    "     \"message\": \"Item creado\",\n",
    "     \"item\": {\n",
    "       \"name\": \"Nuevo item\",\n",
    "       \"price\": 25.5\n",
    "     }\n",
    "   }\n",
    "   ```\n",
    "\n",
    "####  4.3 **Prueba PUT en Postman**\n",
    "\n",
    "1. Abre **Postman**.\n",
    "2. Selecciona el método **PUT**.\n",
    "3. En la URL, ingresa:  \n",
    "   `http://127.0.0.1:8000/items/1`\n",
    "4. En la pestaña **Body**, selecciona **raw** y elige **JSON** como formato.\n",
    "5. Ingresa el cuerpo de la solicitud. Ejemplo:\n",
    "\n",
    "   ```json\n",
    "   {\n",
    "     \"name\": \"Item actualizado\",\n",
    "     \"price\": 30\n",
    "   }\n",
    "   ```\n",
    "\n",
    "6. Haz clic en **Send**.\n",
    "7. La respuesta debería ser:\n",
    "\n",
    "   ```json\n",
    "   {\n",
    "     \"message\": \"Item actualizado\",\n",
    "     \"item_id\": 1,\n",
    "     \"item\": {\n",
    "       \"name\": \"Item actualizado\",\n",
    "       \"price\": 30\n",
    "     }\n",
    "   }\n",
    "   ```\n",
    "\n",
    "#### 🗑 4.4 **Prueba DELETE en Postman**\n",
    "\n",
    "1. Abre **Postman**.\n",
    "2. Selecciona el método **DELETE**.\n",
    "3. En la URL, ingresa:  \n",
    "   `http://127.0.0.1:8000/items/1`\n",
    "4. Haz clic en **Send**.\n",
    "5. La respuesta debería ser:\n",
    "\n",
    "   ```json\n",
    "   {\n",
    "     \"message\": \"Item 1 eliminado\"\n",
    "   }\n",
    "   ```\n",
    "\n",
    "---\n",
    "\n",
    "###  **5. Documentación Adicional con FastAPI**\n",
    "\n",
    "Si quieres ver más detalles sobre cómo manejar parámetros, validación de datos, o documentación avanzada, FastAPI te permite configurar todo eso en la misma interfaz de **Swagger**.\n",
    "\n",
    "Por ejemplo:\n",
    "\n",
    "- Puedes añadir descripciones y ejemplos en las rutas para que Swagger los muestre automáticamente.\n",
    "- FastAPI utiliza **Pydantic** para la validación automática de los datos, lo cual es muy útil cuando trabajas con **POST** y **PUT**.\n",
    "\n",
    "---\n"
   ]
  },
  {
   "cell_type": "markdown",
   "id": "7a9940d9",
   "metadata": {},
   "source": [
    "##  7. Asistencia con IA\n",
    "\n",
    "###  Generación de rutas con IA (ChatGPT o GitHub Copilot)\n",
    "- Pedir: \"Genera rutas RESTful para un modelo de Producto (id, nombre, precio)\"\n",
    "- IA sugiere el código base y estructura.\n"
   ]
  },
  {
   "cell_type": "markdown",
   "id": "2732b0c9",
   "metadata": {},
   "source": [
    "###  Documentación automática\n",
    "- Gracias a Pydantic + tipo de datos, FastAPI genera Swagger automático:\n"
   ]
  },
  {
   "cell_type": "code",
   "execution_count": null,
   "id": "c0f4a0ae",
   "metadata": {},
   "outputs": [],
   "source": [
    "# Importa FastAPI para crear la aplicación y HTTPException para manejar errores personalizados\n",
    "from fastapi import FastAPI, HTTPException\n",
    "\n",
    "# Importa BaseModel de Pydantic, que se usa para validar datos automáticamente\n",
    "from pydantic import BaseModel\n",
    "\n",
    "# Importa herramientas para tipado: List y Optional\n",
    "from typing import List, Optional\n",
    "\n",
    "# Importa uuid para generar identificadores únicos para cada producto\n",
    "import uuid\n",
    "\n",
    "# Crea la instancia principal de la aplicación FastAPI\n",
    "app = FastAPI(\n",
    "    title=\"Product API\",               # Título de la documentación\n",
    "    description=\"API for managing products\"  # Descripción de la API\n",
    ")\n",
    "\n",
    "# Define un modelo de datos para productos usando Pydantic\n",
    "class Product(BaseModel):\n",
    "    id: Optional[str] = None    # El ID será opcional al momento de crear el producto\n",
    "    nombre: str                 # Nombre del producto (obligatorio)\n",
    "    precio: float               # Precio del producto (obligatorio)\n",
    "\n",
    "# Simula una base de datos en memoria con una lista vacía\n",
    "products_db = []\n",
    "\n",
    "# Define la ruta POST para crear un nuevo producto\n",
    "@app.post(\"/products/\", response_model=Product)\n",
    "async def create_product(product: Product):\n",
    "    product.id = str(uuid.uuid4())    # Asigna un ID único generado automáticamente\n",
    "    products_db.append(product)       # Agrega el producto a la lista (base de datos simulada)\n",
    "    return product                    # Devuelve el producto creado\n",
    "\n",
    "# Define la ruta GET para obtener todos los productos\n",
    "@app.get(\"/products/\", response_model=List[Product])\n",
    "async def get_products():\n",
    "    return products_db                # Devuelve la lista completa de productos\n",
    "\n",
    "# Define la ruta GET para obtener un producto por su ID\n",
    "@app.get(\"/products/{product_id}\", response_model=Product)\n",
    "async def get_product(product_id: str):\n",
    "    for product in products_db:               # Recorre todos los productos\n",
    "        if product.id == product_id:          # Compara el ID recibido con cada producto\n",
    "            return product                    # Si lo encuentra, lo devuelve\n",
    "    raise HTTPException(                      # Si no lo encuentra, lanza error 404\n",
    "        status_code=404,\n",
    "        detail=\"Product not found\"\n",
    "    )\n",
    "\n",
    "# Define la ruta PUT para actualizar un producto por su ID\n",
    "@app.put(\"/products/{product_id}\", response_model=Product)\n",
    "async def update_product(product_id: str, updated_product: Product):\n",
    "    for index, product in enumerate(products_db):     # Recorre la lista con índice\n",
    "        if product.id == product_id:                  # Si el ID coincide\n",
    "            updated_product.id = product_id           # Mantiene el mismo ID\n",
    "            products_db[index] = updated_product      # Reemplaza el producto existente\n",
    "            return updated_product                    # Devuelve el producto actualizado\n",
    "    raise HTTPException(                              # Si no lo encuentra, lanza error 404\n",
    "        status_code=404,\n",
    "        detail=\"Product not found\"\n",
    "    )\n",
    "\n",
    "# Define la ruta DELETE para eliminar un producto por su ID\n",
    "@app.delete(\"/products/{product_id}\")\n",
    "async def delete_product(product_id: str):\n",
    "    for index, product in enumerate(products_db):     # Recorre la lista con índice\n",
    "        if product.id == product_id:                  # Si el ID coincide\n",
    "            products_db.pop(index)                    # Elimina el producto de la lista\n",
    "            return {\"message\": \"Product deleted successfully\"}  # Confirma la eliminación\n",
    "    raise HTTPException(                              # Si no lo encuentra, lanza error 404\n",
    "        status_code=404,\n",
    "        detail=\"Product not found\"\n",
    "    )\n"
   ]
  },
  {
   "cell_type": "markdown",
   "id": "7b2bdfa5",
   "metadata": {},
   "source": [
    "###  Refactorización de funciones con ayuda de IA\n",
    "\n",
    "- Ayudame a refactorizar el código por \"capas\"\n",
    "\n",
    "---\n",
    "\n",
    "\n",
    "###  Documentación\n",
    "\n",
    "- Ayudame a documentar el código con Sphinx\n",
    "\n",
    "Ejecutar: pip install sphinx\n",
    "\n",
    "---\n"
   ]
  },
  {
   "cell_type": "markdown",
   "id": "d10c95e1",
   "metadata": {},
   "source": [
    "# **Proyecto completo y funcional** con FastAPI que permita gestionar un sistema de **tareas (to-do list)**. Este sistema incluirá:\n",
    "\n",
    "###  Características del Proyecto\n",
    "- Rutas básicas: `GET`, `POST`, `PUT`, `DELETE`\n",
    "- Validación de datos con **Pydantic**\n",
    "- Documentación automática con **Swagger** (`/docs`)\n",
    "- Código limpio y estructurado\n",
    "- Listo para correr en local con `uvicorn`\n",
    "\n",
    "---\n"
   ]
  },
  {
   "cell_type": "markdown",
   "id": "4e62ae5f",
   "metadata": {},
   "source": [
    "##  Estructura del Proyecto\n",
    "\n",
    "```bash\n",
    "todo_api/\n",
    "├── main.py\n",
    "├── models.py\n",
    "├── routes.py\n",
    "├── data.py\n",
    "├── requirements.txt\n",
    "```\n",
    "\n",
    "---\n"
   ]
  },
  {
   "cell_type": "markdown",
   "id": "7bcca807",
   "metadata": {},
   "source": [
    "##  Paso 1: Crear y activar el entorno"
   ]
  },
  {
   "cell_type": "code",
   "execution_count": null,
   "id": "2ab5688b",
   "metadata": {},
   "outputs": [],
   "source": [
    "python -m venv env\n",
    "source env/bin/activate  # Windows: env\\Scripts\\activate\n",
    "pip install fastapi uvicorn\n"
   ]
  },
  {
   "cell_type": "markdown",
   "id": "a86cb551",
   "metadata": {},
   "source": [
    "En `requirements.txt`:"
   ]
  },
  {
   "cell_type": "code",
   "execution_count": null,
   "id": "a7ba3e36",
   "metadata": {},
   "outputs": [],
   "source": [
    "fastapi\n",
    "uvicorn\n"
   ]
  },
  {
   "cell_type": "markdown",
   "id": "aa593dd8",
   "metadata": {},
   "source": [
    "---\n",
    "\n",
    "##  Paso 2: Crear los archivos\n"
   ]
  },
  {
   "cell_type": "markdown",
   "id": "ca27afea",
   "metadata": {},
   "source": [
    "### `models.py` – Modelo de datos con Pydantic"
   ]
  },
  {
   "cell_type": "code",
   "execution_count": null,
   "id": "460b4d6a",
   "metadata": {},
   "outputs": [],
   "source": [
    "from pydantic import BaseModel\n",
    "from typing import Optional\n",
    "\n",
    "class Task(BaseModel):\n",
    "    id: int\n",
    "    title: str\n",
    "    description: Optional[str] = None\n",
    "    completed: bool = False\n"
   ]
  },
  {
   "cell_type": "markdown",
   "id": "adf73403",
   "metadata": {},
   "source": [
    "### `data.py` – Base de datos simulada (en memoria)"
   ]
  },
  {
   "cell_type": "code",
   "execution_count": null,
   "id": "86eaba08",
   "metadata": {},
   "outputs": [],
   "source": [
    "from typing import List\n",
    "from models import Task\n",
    "\n",
    "# Simulación de almacenamiento en memoria\n",
    "tasks_db: List[Task] = []\n"
   ]
  },
  {
   "cell_type": "markdown",
   "id": "30d5e9b2",
   "metadata": {},
   "source": [
    "---\n",
    "\n",
    "### `routes.py` – Lógica de rutas\n"
   ]
  },
  {
   "cell_type": "code",
   "execution_count": null,
   "id": "e6a65e1c",
   "metadata": {},
   "outputs": [],
   "source": [
    "from fastapi import APIRouter, HTTPException\n",
    "from models import Task\n",
    "from data import tasks_db\n",
    "\n",
    "router = APIRouter()\n",
    "\n",
    "@router.get(\"/tasks\")\n",
    "def get_tasks():\n",
    "    return tasks_db\n",
    "\n",
    "@router.get(\"/tasks/{task_id}\")\n",
    "def get_task(task_id: int):\n",
    "    for task in tasks_db:\n",
    "        if task.id == task_id:\n",
    "            return task\n",
    "    raise HTTPException(status_code=404, detail=\"Task not found\")\n",
    "\n",
    "@router.post(\"/tasks\")\n",
    "def create_task(task: Task):\n",
    "    tasks_db.append(task)\n",
    "    return {\"message\": \"Task created\", \"task\": task}\n",
    "\n",
    "@router.put(\"/tasks/{task_id}\")\n",
    "def update_task(task_id: int, updated_task: Task):\n",
    "    for i, task in enumerate(tasks_db):\n",
    "        if task.id == task_id:\n",
    "            tasks_db[i] = updated_task\n",
    "            return {\"message\": \"Task updated\", \"task\": updated_task}\n",
    "    raise HTTPException(status_code=404, detail=\"Task not found\")\n",
    "\n",
    "@router.delete(\"/tasks/{task_id}\")\n",
    "def delete_task(task_id: int):\n",
    "    for i, task in enumerate(tasks_db):\n",
    "        if task.id == task_id:\n",
    "            tasks_db.pop(i)\n",
    "            return {\"message\": \"Task deleted\"}\n",
    "    raise HTTPException(status_code=404, detail=\"Task not found\")\n"
   ]
  },
  {
   "cell_type": "markdown",
   "id": "99adb5c4",
   "metadata": {},
   "source": [
    "### `main.py` – App principal"
   ]
  },
  {
   "cell_type": "code",
   "execution_count": null,
   "id": "39da870d",
   "metadata": {},
   "outputs": [],
   "source": [
    "from fastapi import FastAPI\n",
    "from routes import router\n",
    "\n",
    "app = FastAPI(title=\"Sistema de Tareas\", description=\"API RESTful con FastAPI\", version=\"1.0\")\n",
    "\n",
    "app.include_router(router)\n"
   ]
  },
  {
   "cell_type": "markdown",
   "id": "dc3bef0c",
   "metadata": {},
   "source": [
    "---\n",
    "\n",
    "##  Paso 3: Ejecutar el servidor\n"
   ]
  },
  {
   "cell_type": "markdown",
   "id": "a33a37d8",
   "metadata": {},
   "source": [
    "\n",
    "```bash\n",
    "uvicorn main:app --reload\n",
    "```\n"
   ]
  },
  {
   "cell_type": "markdown",
   "id": "4d0384e4",
   "metadata": {},
   "source": [
    "Ve a [http://127.0.0.1:8000/docs](http://127.0.0.1:8000/docs) para acceder a la **documentación Swagger** generada automáticamente.\n",
    "\n",
    "---\n"
   ]
  },
  {
   "cell_type": "markdown",
   "id": "1a2c962d",
   "metadata": {},
   "source": [
    "\n",
    "##  Puedes probar con estos ejemplos:\n",
    "\n",
    "### POST /tasks\n"
   ]
  },
  {
   "cell_type": "code",
   "execution_count": null,
   "id": "1821ebd5",
   "metadata": {},
   "outputs": [],
   "source": [
    "{\n",
    "  \"id\": 1,\n",
    "  \"title\": \"Preparar clase de FastAPI\",\n",
    "  \"description\": \"Incluir ejemplos de código y documentación\",\n",
    "  \"completed\": false\n",
    "}\n"
   ]
  },
  {
   "cell_type": "markdown",
   "id": "93f762b1",
   "metadata": {},
   "source": [
    "### PUT /tasks/1"
   ]
  },
  {
   "cell_type": "code",
   "execution_count": null,
   "id": "23852f59",
   "metadata": {},
   "outputs": [],
   "source": [
    "{\n",
    "  \"id\": 1,\n",
    "  \"title\": \"Preparar clase de FastAPI\",\n",
    "  \"description\": \"Actualizado con ejemplos de IA\",\n",
    "  \"completed\": true\n",
    "}\n"
   ]
  },
  {
   "cell_type": "markdown",
   "id": "94f62750",
   "metadata": {},
   "source": [
    "---\n",
    "\n",
    "## **Paso a paso detallado para validar cada ruta de la API con Postman**, ideal para enseñar a tus estudiantes a interactuar con una API RESTful usando herramientas profesionales. Incluye capturas sugeridas, tips y posibles errores a detectar.\n",
    "\n",
    "---\n",
    "\n",
    "##  Validando API con Postman – Sistema de Tareas con FastAPI\n",
    "\n",
    "---\n"
   ]
  },
  {
   "cell_type": "markdown",
   "id": "df58b8c2",
   "metadata": {},
   "source": [
    "###  Pre-requisitos\n",
    "\n",
    "1. Tener el servidor ejecutándose:\n",
    "   ```bash\n",
    "   uvicorn main:app --reload\n",
    "   ```\n",
    "   Por defecto estará en: `http://127.0.0.1:8000`\n",
    "\n",
    "2. Tener Postman instalado o usar la versión web: https://www.postman.com/\n",
    "\n",
    "---\n"
   ]
  },
  {
   "cell_type": "markdown",
   "id": "17e127af",
   "metadata": {},
   "source": [
    "### 1.  Crear una Tarea – `POST /tasks`\n",
    "\n",
    "**Paso:**\n",
    "- Método: `POST`\n",
    "- URL: `http://127.0.0.1:8000/tasks`\n",
    "- Ir a pestaña `Body` → `raw` → seleccionar `JSON` en el dropdown\n",
    "- Ingresar:\n",
    "\n"
   ]
  },
  {
   "cell_type": "code",
   "execution_count": null,
   "id": "950f70ea",
   "metadata": {},
   "outputs": [],
   "source": [
    "{\n",
    "  \"id\": 1,\n",
    "  \"title\": \"Preparar clase de FastAPI\",\n",
    "  \"description\": \"Ejemplos prácticos para estudiantes\",\n",
    "  \"completed\": false\n",
    "}\n"
   ]
  },
  {
   "cell_type": "markdown",
   "id": "b4a3af66",
   "metadata": {},
   "source": [
    "**Esperado:**\n",
    "- Código 200\n",
    "- Mensaje `Task created`\n",
    "- La tarea que enviaste como JSON\n",
    "\n",
    "---\n"
   ]
  },
  {
   "cell_type": "markdown",
   "id": "6ede9db3",
   "metadata": {},
   "source": [
    "### 2. Listar Tareas – `GET /tasks`\n",
    "\n",
    "**Paso:**\n",
    "- Método: `GET`\n",
    "- URL: `http://127.0.0.1:8000/tasks`\n",
    "\n",
    "**Esperado:**\n",
    "- Código 200\n",
    "- Lista de tareas en formato JSON\n",
    "\n",
    "**Consejo:** Usa esto para validar que se creó correctamente la tarea anterior.\n",
    "\n",
    "---\n"
   ]
  },
  {
   "cell_type": "markdown",
   "id": "d5cadd4c",
   "metadata": {},
   "source": [
    "### 3.  Obtener Tarea por ID – `GET /tasks/{id}`\n",
    "\n",
    "**Paso:**\n",
    "- Método: `GET`\n",
    "- URL: `http://127.0.0.1:8000/tasks/1`\n",
    "\n",
    "**Esperado:**\n",
    "- Código 200\n",
    "- Tarea con `id: 1`\n",
    "\n",
    "**Error común:** Si el ID no existe, devuelve 404 con `\"Task not found\"`\n",
    "\n",
    "---\n"
   ]
  },
  {
   "cell_type": "markdown",
   "id": "342496ed",
   "metadata": {},
   "source": [
    "### 4.  Actualizar Tarea – `PUT /tasks/{id}`\n",
    "\n",
    "**Paso:**\n",
    "- Método: `PUT`\n",
    "- URL: `http://127.0.0.1:8000/tasks/1`\n",
    "- Body → `raw` → `JSON`:\n"
   ]
  },
  {
   "cell_type": "code",
   "execution_count": null,
   "id": "3c7de5b1",
   "metadata": {},
   "outputs": [],
   "source": [
    "{\n",
    "  \"id\": 1,\n",
    "  \"title\": \"Preparar clase FastAPI + Postman\",\n",
    "  \"description\": \"Clase mejorada con pruebas en vivo\",\n",
    "  \"completed\": true\n",
    "}\n"
   ]
  },
  {
   "cell_type": "markdown",
   "id": "94739250",
   "metadata": {},
   "source": [
    "**Esperado:**\n",
    "- Código 200\n",
    "- Mensaje: `Task updated`\n",
    "- Tarea actualizada\n",
    "\n",
    "---\n"
   ]
  },
  {
   "cell_type": "markdown",
   "id": "82da6a31",
   "metadata": {},
   "source": [
    "### 5.  Eliminar Tarea – `DELETE /tasks/{id}`\n",
    "\n",
    "**Paso:**\n",
    "- Método: `DELETE`\n",
    "- URL: `http://127.0.0.1:8000/tasks/1`\n",
    "\n",
    "**Esperado:**\n",
    "- Código 200\n",
    "- Mensaje: `Task deleted`\n",
    "\n",
    "---\n"
   ]
  },
  {
   "cell_type": "markdown",
   "id": "669b50fb",
   "metadata": {},
   "source": [
    "###  Validación Extra – Casos de Error\n",
    "\n",
    "Enséñales a tus estudiantes a probar:\n",
    "- `GET /tasks/99` → 404\n",
    "- `PUT /tasks/999` → 404\n",
    "- `DELETE /tasks/999` → 404\n",
    "\n",
    "---\n"
   ]
  },
  {
   "cell_type": "markdown",
   "id": "000bcd46",
   "metadata": {},
   "source": [
    "##  Bonus: Ver documentación Swagger y comparar\n",
    "\n",
    "- Navegar a: `http://127.0.0.1:8000/docs`\n",
    "- Mostrar cómo Swagger permite hacer lo mismo que Postman desde el navegador\n",
    "\n",
    "---\n"
   ]
  },
  {
   "cell_type": "markdown",
   "id": "78030a7a",
   "metadata": {},
   "source": [
    "## **Prompts diseñados especialmente para Cursor AI** que puedes usar para **mejorar el software del sistema de tareas en FastAPI**. Están organizados por propósito: refactorización, buenas prácticas, seguridad, escalabilidad, y uso de IA en desarrollo.\n",
    "\n",
    "---\n"
   ]
  },
  {
   "cell_type": "markdown",
   "id": "a61dc839",
   "metadata": {},
   "source": [
    "##  PROMPTS PARA CURSOR AI – MEJORAS EN FASTAPI\n",
    "\n",
    "###  1. **Refactorización y Limpieza de Código**\n"
   ]
  },
  {
   "cell_type": "markdown",
   "id": "0933c2c5",
   "metadata": {},
   "source": [
    "- Refactoriza este archivo para aplicar principios de Clean Code y separar responsabilidades. Usa nombres más expresivos, reduce la lógica duplicada y mejora la legibilidad general."
   ]
  },
  {
   "cell_type": "markdown",
   "id": "e0ec7c95",
   "metadata": {},
   "source": [
    "- Reorganiza el proyecto para seguir una estructura profesional tipo MVC para APIs en FastAPI, con carpetas para modelos, rutas, servicios y controladores."
   ]
  },
  {
   "cell_type": "markdown",
   "id": "a8b90552",
   "metadata": {},
   "source": [
    "---\n",
    "\n",
    "###  2. **Seguridad y Validación**\n"
   ]
  },
  {
   "cell_type": "markdown",
   "id": "84f43dc0",
   "metadata": {},
   "source": [
    "- Agrega validaciones adicionales en el modelo `Task` de Pydantic: que el título tenga mínimo 3 caracteres y máximo 100, y que el campo `completed` sea siempre booleano.\n"
   ]
  },
  {
   "cell_type": "markdown",
   "id": "dfea71d1",
   "metadata": {},
   "source": [
    "- Agrega manejo de errores global usando `ExceptionMiddleware` en FastAPI para capturar excepciones no controladas y responder con un mensaje amigable.\n"
   ]
  },
  {
   "cell_type": "markdown",
   "id": "2818868f",
   "metadata": {},
   "source": [
    "---\n",
    "\n",
    "###  3. **Escalabilidad y Organización**\n"
   ]
  },
  {
   "cell_type": "markdown",
   "id": "71ef0dbe",
   "metadata": {},
   "source": [
    "- Separa la lógica de manejo de tareas en un archivo llamado `services/task_service.py` y haz que las rutas solo llamen a las funciones del servicio. Usa tipado estático.\n"
   ]
  },
  {
   "cell_type": "markdown",
   "id": "0805e251",
   "metadata": {},
   "source": [
    "- Transforma el sistema actual a uno basado en clases usando `APIRouter` y routers orientados a objetos. Cada clase debe manejar un conjunto de rutas REST relacionadas.\n"
   ]
  },
  {
   "cell_type": "markdown",
   "id": "e6d121d1",
   "metadata": {},
   "source": [
    "---\n",
    "\n",
    "###  4. **Persistencia y Base de Datos**\n"
   ]
  },
  {
   "cell_type": "markdown",
   "id": "9496f3f2",
   "metadata": {},
   "source": [
    "- Cambia la base de datos en memoria por una conexión real a SQLite usando SQLModel o SQLAlchemy, manteniendo los endpoints existentes.\n"
   ]
  },
  {
   "cell_type": "markdown",
   "id": "dc99f5be",
   "metadata": {},
   "source": [
    "- Integra SQLModel para que el modelo `Task` sea una tabla real en SQLite. Crea funciones para insertar, actualizar, eliminar y obtener datos desde la base de datos.\n"
   ]
  },
  {
   "cell_type": "markdown",
   "id": "e96e3703",
   "metadata": {},
   "source": [
    "---\n",
    "\n",
    "###  5. **IA para Asistencia al Desarrollo**\n"
   ]
  },
  {
   "cell_type": "markdown",
   "id": "18a047a4",
   "metadata": {},
   "source": [
    "- Genera automáticamente documentación Swagger para todos los endpoints del proyecto con descripciones claras y ejemplos de entrada y salida.\n"
   ]
  },
  {
   "cell_type": "markdown",
   "id": "42d3556a",
   "metadata": {},
   "source": [
    "- Sugiere 3 nuevas funcionalidades para este sistema de tareas, pensando en un usuario final real. Luego, genera las rutas necesarias para implementarlas.\n"
   ]
  },
  {
   "cell_type": "markdown",
   "id": "d9a0f634",
   "metadata": {},
   "source": [
    "---\n",
    "\n",
    "###  6. **Mejora de la Experiencia del Usuario**\n"
   ]
  },
  {
   "cell_type": "markdown",
   "id": "89ec2b0a",
   "metadata": {},
   "source": [
    "- Agrega paginación a la ruta GET `/tasks` usando parámetros `skip` y `limit`. Si no se envían, devuelve las primeras 10 tareas.\n"
   ]
  },
  {
   "cell_type": "markdown",
   "id": "37337cd1",
   "metadata": {},
   "source": [
    "- Agrega filtros por estado `completed=true/false` al endpoint GET `/tasks` para mostrar solo tareas completadas o pendientes.\n"
   ]
  },
  {
   "cell_type": "markdown",
   "id": "42554c81",
   "metadata": {},
   "source": [
    "---\n",
    "\n",
    "###  7. **Testing y Calidad**\n"
   ]
  },
  {
   "cell_type": "markdown",
   "id": "ba8ad688",
   "metadata": {},
   "source": [
    "- Crea pruebas unitarias con pytest para cada una de las rutas del sistema de tareas. Incluye pruebas para errores (tarea no encontrada, ID duplicado, etc.).\n"
   ]
  },
  {
   "cell_type": "markdown",
   "id": "86735497",
   "metadata": {},
   "source": [
    "- Agrega `pytest` y `httpx` para realizar pruebas de integración a los endpoints. Crea un archivo `test_main.py` con ejemplos.\n"
   ]
  },
  {
   "cell_type": "markdown",
   "id": "e3fd92a0",
   "metadata": {},
   "source": [
    "---\n",
    "\n",
    "##  Bonus: Estructura Profesional Final Sugerida\n",
    "```\n",
    "todo_api/\n",
    "├── app/\n",
    "│   ├── main.py\n",
    "│   ├── models.py\n",
    "│   ├── routes/\n",
    "│   │   └── task_routes.py\n",
    "│   ├── services/\n",
    "│   │   └── task_service.py\n",
    "│   └── database.py\n",
    "├── tests/\n",
    "│   └── test_tasks.py\n",
    "├── requirements.txt\n",
    "└── README.md\n",
    "```\n",
    "\n",
    "---\n"
   ]
  },
  {
   "cell_type": "markdown",
   "id": "3324f394",
   "metadata": {},
   "source": [
    "##  Recursos Adicionales\n",
    "- [FastAPI oficial](https://fastapi.tiangolo.com)\n",
    "- [GitHub Starter Template](https://github.com/tiangolo/full-stack-fastapi-postgresql)\n",
    "- [Postman](https://www.postman.com/)\n",
    "- [Swagger Editor](https://editor.swagger.io/)\n",
    "\n",
    "---\n"
   ]
  },
  {
   "cell_type": "markdown",
   "id": "df15b20b",
   "metadata": {},
   "source": [
    "##  Ejercicio propuesto para estudiantes\n",
    "**Crear una API básica para gestionar un inventario de productos con FastAPI**  \n",
    "Debe permitir:\n",
    "- Consultar todos los productos (GET)\n",
    "- Crear un producto (POST)\n",
    "- Editar un producto (PUT)\n",
    "- Eliminar un producto (DELETE)\n",
    "\n",
    "---\n"
   ]
  }
 ],
 "metadata": {
  "language_info": {
   "name": "python"
  }
 },
 "nbformat": 4,
 "nbformat_minor": 5
}
