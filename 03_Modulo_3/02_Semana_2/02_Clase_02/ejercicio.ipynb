{
 "cells": [
  {
   "cell_type": "code",
   "execution_count": null,
   "id": "525683e1",
   "metadata": {},
   "outputs": [],
   "source": [
    "from datasets import load_dataset\n",
    "\n",
    "def cargar_resenas_amazon(cantidad=5):\n",
    "    dataset = load_dataset(\"amazon_polarity\", split=f\"train[:{cantidad}]\")\n",
    "    resenas = {}\n",
    "    for i, entrada in enumerate(dataset, start=1):\n",
    "        resenas[f\"r{i:03}\"] ={\n",
    "            \"título\": entrada[\"title\"],\n",
    "            \"contenido\": entrada[\"content\"],\n",
    "            \"Sentimiento\": \"positivo\" if entrada[\"label\"] == 1 else \"Negativo\"\n",
    "        }\n",
    "    return resenas\n",
    "\n",
    "def mostrar_resenas(resenas_dict):\n",
    "    for id_resenas, datos in resenas_dict.items():\n",
    "        print(f\"ID: {id_resenas}\")\n",
    "        \n",
    "        for clave, valor in datos.items():\n",
    "            print(f\" {clave.capitalize()}: {valor}\")\n",
    "        print()\n",
    "\n",
    "def main():\n",
    "    cantidad = 5\n",
    "    resenas_estructuradas = cargar_resenas_amazon(cantidad)\n",
    "    mostrar_resenas(resenas_estructuradas)\n",
    "\n",
    "if __name__ == \"__main__\":\n",
    "    main()\n"
   ]
  }
 ],
 "metadata": {
  "kernelspec": {
   "display_name": "base",
   "language": "python",
   "name": "python3"
  },
  "language_info": {
   "codemirror_mode": {
    "name": "ipython",
    "version": 3
   },
   "file_extension": ".py",
   "mimetype": "text/x-python",
   "name": "python",
   "nbconvert_exporter": "python",
   "pygments_lexer": "ipython3",
   "version": "3.12.7"
  }
 },
 "nbformat": 4,
 "nbformat_minor": 5
}
