{
 "cells": [
  {
   "cell_type": "code",
   "execution_count": null,
   "id": "e2e77872",
   "metadata": {},
   "outputs": [],
   "source": [
    "ventas = [\n",
    "    (\"V001\", \"Luis Rojas\", 350000000),\n",
    "    (\"V002\", \"Ana Torres\", 580000),\n",
    "    (\"V003\", \"Carlos Díaz\", 420000)\n",
    "]\n",
    "\n",
    "ventas_dict = {\n",
    "    id_venta: {\n",
    "        \"cliente\": cliente,\n",
    "        \"monto\": monto\n",
    "        }\n",
    "        for id_venta, cliente, monto in ventas\n",
    "    }\n",
    "\n",
    "print(\"Ventas registradas: \")\n",
    "for id_venta, datos in ventas_dict.items():\n",
    "    print(f\"ID ventas: {id_venta}\")\n",
    "    print(f\"  Cliente: {datos['cliente']}\")\n",
    "    print(f\"  Monto: ${datos['monto']:,}\\n\") # ALT + 92 => \\"
   ]
  },
  {
   "cell_type": "code",
   "execution_count": null,
   "id": "f2199b56",
   "metadata": {},
   "outputs": [],
   "source": [
    "# Ejercicio de Julian Rubiano\n",
    "\n",
    "ventas = [\n",
    "    (\"V001\", \"Luis Rojas\", 350000),\n",
    "    (\"V002\", \"Ana Torres\", 580000),\n",
    "    (\"V003\", \"Carlos Díaz\", 420000)\n",
    "]\n",
    "ventasDict = {}\n",
    "for i in ventas:\n",
    "    ventasDict.update({\n",
    "        i[0] :  {\"cliente\": i[1], \"monto\" : i[2]}\n",
    "    })\n",
    "\n",
    "\n",
    "print(type(ventasDict))\n",
    "print(ventasDict)"
   ]
  }
 ],
 "metadata": {
  "kernelspec": {
   "display_name": "base",
   "language": "python",
   "name": "python3"
  },
  "language_info": {
   "codemirror_mode": {
    "name": "ipython",
    "version": 3
   },
   "file_extension": ".py",
   "mimetype": "text/x-python",
   "name": "python",
   "nbconvert_exporter": "python",
   "pygments_lexer": "ipython3",
   "version": "3.12.7"
  }
 },
 "nbformat": 4,
 "nbformat_minor": 5
}
